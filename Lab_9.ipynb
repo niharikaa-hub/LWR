{
  "nbformat": 4,
  "nbformat_minor": 0,
  "metadata": {
    "colab": {
      "provenance": []
    },
    "kernelspec": {
      "name": "python3",
      "display_name": "Python 3"
    },
    "language_info": {
      "name": "python"
    }
  },
  "cells": [
    {
      "cell_type": "markdown",
      "source": [
        "### **LAB_9**"
      ],
      "metadata": {
        "id": "_H1eYWA0mxca"
      }
    },
    {
      "cell_type": "markdown",
      "source": [
        "# Implement the non-parametric Locally Weighted Regression algorithm in order to fit data points. Select appropriate data set for your experiment and draw graphs"
      ],
      "metadata": {
        "id": "ALBhLHkjmJ1X"
      }
    },
    {
      "cell_type": "markdown",
      "source": [
        "This code defines a function called lwr that implements the Locally Weighted Regression algorithm.\n",
        "\n",
        "It takes **four arguments:**\n",
        "\n",
        "**x**: The input features.\n",
        "\n",
        "**y**: The target variable.\n",
        "\n",
        "**x_new**: The new data point for which to make a prediction.\n",
        "\n",
        "**tau**: The bandwidth parameter that controls the smoothness of the regression.\n",
        "\n",
        "Inside the function, it calculates weights for each data point based on its distance from x_new, creates a weight matrix W, calculates the regression coefficients beta, and finally makes a prediction for x_new.\n",
        "\n",
        "\n",
        "**tau = 5**: Sets the bandwidth parameter tau to 5. This value can be adjusted to control the smoothness of the regression.\n",
        "\n",
        "\n",
        "**x_pred** = np.linspace(features.min(), features.max(), 200).reshape(-1, 1): Creates a set of evenly spaced points between the minimum and maximum values of the 'total_bill' for prediction.\n",
        "\n",
        "\n",
        "**y_pred** = [lwr(features, labels, x_new, tau) for x_new in x_pred]: Applies the lwr function to each point in x_pred to obtain the predicted 'tip' values.\n",
        "The remaining lines use Matplotlib to create a scatter plot of the original data and a line plot of the LWR fit. It sets labels for the axes, adds a legend, and displays the title.\n",
        "\n",
        "Finally, **plt.show()** displays the generated plot.\n",
        "\n",
        "\n",
        "\n"
      ],
      "metadata": {
        "id": "9nEbER3QmbwF"
      }
    },
    {
      "cell_type": "markdown",
      "source": [
        "## **Program's Purpose**\n",
        "This program demonstrates the Locally Weighted Regression (LWR) algorithm. LWR is a non-parametric method used to fit a curve to data points without assuming a specific functional form (like linear or polynomial). It works by giving more weight to data points near the point of prediction and less weight to those farther away. This allows it to capture local patterns in the data and create a flexible fit.\n",
        "\n",
        "## **Inference**\n",
        "The program aims to infer the relationship between the total bill and the tip amount in a restaurant setting. It uses the LWR algorithm to model this relationship, essentially creating a curve that shows how the tip amount tends to change as the total bill increases.\n",
        "\n",
        "It's important to note that LWR doesn't establish a causal relationship; it simply describes the observed pattern. It doesn't tell us that a higher bill causes a higher tip, but rather that they tend to occur together.\n",
        "\n",
        "## **Input**\n",
        "The input to the program is the 'tips' dataset, which is loaded using Seaborn. This dataset likely contains information about restaurant bills, including the total bill amount and the tip amount for each transaction.\n",
        "\n",
        "Specifically, the program uses the 'total_bill' column as the input feature (x) and the 'tip' column as the output or target variable (y).\n",
        "\n",
        "## **Output**\n",
        "The program produces two main outputs:\n",
        "\n",
        "A fitted LWR model: This model is represented by the lwr function and the calculated regression coefficients (beta). It captures the relationship between the total bill and the tip amount based on the data.\n",
        "A visualization: The program generates a scatter plot showing the original data points (total bill vs. tip) and a red line representing the fitted LWR curve. This plot helps visualize the relationship captured by the model.\n",
        "In essence, the program takes a dataset of restaurant bills as input, uses LWR to learn a model of the relationship between the total bill and tip amount, and then visualizes this relationship using a plot. This allows us to see how tips tend to vary with the total bill amount, without making strong assumptions about the underlying functional form of this relationship.\n",
        "\n"
      ],
      "metadata": {
        "id": "sq1WAyswmKUP"
      }
    },
    {
      "cell_type": "code",
      "source": [
        "import numpy as np\n",
        "import pandas as pd\n",
        "import matplotlib.pyplot as plt\n",
        "import seaborn as sns # Import seaborn for loading the dataset\n",
        "\n",
        "def lwr(x, y, x_new, tau):\n",
        "    \"\"\"\n",
        "    Locally Weighted Regression (LWR) algorithm\n",
        "    \"\"\"\n",
        "    weights = np.exp(-np.sum((x - x_new)**2, axis=1) / (2 * tau**2))\n",
        "    W = np.diag(weights)\n",
        "    xTW = np.dot(x.T, W)\n",
        "    beta = np.dot(np.linalg.inv(np.dot(xTW, x)), np.dot(xTW, y))\n",
        "    prediction = np.dot(x_new, beta)\n",
        "    return prediction\n",
        "\n",
        "# Load the 'tips' dataset using seaborn\n",
        "tips = sns.load_dataset('tips') # Load the dataset directly from seaborn\n",
        "df = pd.DataFrame(tips) # Convert to DataFrame if needed\n",
        "\n",
        "features = np.array(df.total_bill).reshape(-1, 1)  # Reshape for LWR\n",
        "labels = np.array(df.tip)\n",
        "\n",
        "# Apply LWR\n",
        "tau = 5  # Adjust bandwidth as needed\n",
        "x_pred = np.linspace(features.min(), features.max(), 200).reshape(-1, 1)\n",
        "y_pred = [lwr(features, labels, x_new, tau) for x_new in x_pred]\n",
        "y_pred = np.array(y_pred).flatten()\n",
        "\n",
        "# Plot results\n",
        "plt.scatter(features, labels, color='blue', label='Original Data')\n",
        "plt.plot(x_pred, y_pred, color='red', linewidth=3, label='LWR Fit')\n",
        "plt.xlabel('Total bill')\n",
        "plt.ylabel('Tip')\n",
        "plt.legend()\n",
        "plt.title('Locally Weighted Regression')\n",
        "plt.show()"
      ],
      "metadata": {
        "id": "5M35XiBnmK9d"
      },
      "execution_count": null,
      "outputs": []
    }
  ]
}